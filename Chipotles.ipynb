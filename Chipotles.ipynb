{
  "nbformat": 4,
  "nbformat_minor": 0,
  "metadata": {
    "colab": {
      "provenance": []
    },
    "kernelspec": {
      "name": "python3",
      "display_name": "Python 3"
    },
    "language_info": {
      "name": "python"
    }
  },
  "cells": [
    {
      "cell_type": "code",
      "execution_count": 21,
      "metadata": {
        "id": "kKgVUu9mAeJe"
      },
      "outputs": [],
      "source": [
        "import pandas as pd\n",
        "import matplotlib.pyplot as plt\n",
        "import warnings\n",
        "from collections import Counter\n",
        "\n",
      ]
    },
    {
      "cell_type": "code",
      "source": [
        "url = \"https://raw.githubusercontent.com/justmarkham/DAT8/master/data/chipotle.tsv\""
      ],
      "metadata": {
        "id": "ALU_5ODHAfnT"
      },
      "execution_count": 22,
      "outputs": []
    },
    {
      "cell_type": "code",
      "source": [
        "chipotle = pd.read_csv('https://raw.githubusercontent.com/justmarkham/DAT8/master/data/chipotle.tsv', sep = '\\t')"
      ],
      "metadata": {
        "id": "JY8ONUjEAiMp"
      },
      "execution_count": 23,
      "outputs": []
    },
    {
      "cell_type": "code",
      "source": [
        "print(chipotle.head())"
      ],
      "metadata": {
        "colab": {
          "base_uri": "https://localhost:8080/"
        },
        "id": "5DgSPIkJAzgS",
        "outputId": "bcb67c5f-bdbb-47bd-ece0-35e25987c4f6"
      },
      "execution_count": 24,
      "outputs": [
        {
          "output_type": "stream",
          "name": "stdout",
          "text": [
            "   order_id  quantity                              item_name  \\\n",
            "0         1         1           Chips and Fresh Tomato Salsa   \n",
            "1         1         1                                   Izze   \n",
            "2         1         1                       Nantucket Nectar   \n",
            "3         1         1  Chips and Tomatillo-Green Chili Salsa   \n",
            "4         2         2                           Chicken Bowl   \n",
            "\n",
            "                                  choice_description item_price  \n",
            "0                                                NaN     $2.39   \n",
            "1                                       [Clementine]     $3.39   \n",
            "2                                            [Apple]     $3.39   \n",
            "3                                                NaN     $2.39   \n",
            "4  [Tomatillo-Red Chili Salsa (Hot), [Black Beans...    $16.98   \n"
          ]
        }
      ]
    },
    {
      "cell_type": "code",
      "source": [
        "chipotle['item_price'] = chipotle['item_price'].str.replace('$', '').str.strip()\n",
        "\n",
        "chipotle['item_price'] = chipotle['item_price'].astype(float)\n",
        "\n",
        "count = chipotle[chipotle['item_price'] > 10.00]['item_price'].count()\n",
        "\n",
        "print(\"Count of products priced above $10.00:\", count)"
      ],
      "metadata": {
        "colab": {
          "base_uri": "https://localhost:8080/"
        },
        "id": "1y_OPkYQBzDS",
        "outputId": "6549dd84-5123-4f95-da8d-5dc6831bb15b"
      },
      "execution_count": 25,
      "outputs": [
        {
          "output_type": "stream",
          "name": "stdout",
          "text": [
            "Count of products priced above $10.00: 1130\n"
          ]
        },
        {
          "output_type": "stream",
          "name": "stderr",
          "text": [
            "<ipython-input-25-5fcacb962919>:1: FutureWarning: The default value of regex will change from True to False in a future version. In addition, single character regular expressions will *not* be treated as literal strings when regex=True.\n",
            "  chipotle['item_price'] = chipotle['item_price'].str.replace('$', '').str.strip()\n"
          ]
        }
      ]
    },
    {
      "cell_type": "code",
      "source": [
        "products_gt_10 = chipotle.loc[chipotle['item_price'] > 10.00, 'item_name']\n",
        "\n",
        "print(products_gt_10)"
      ],
      "metadata": {
        "colab": {
          "base_uri": "https://localhost:8080/"
        },
        "id": "fn_29EK4B6Lm",
        "outputId": "e6a1bb98-9c5d-4aea-846b-e9505708a963"
      },
      "execution_count": 26,
      "outputs": [
        {
          "output_type": "stream",
          "name": "stdout",
          "text": [
            "4             Chicken Bowl\n",
            "5             Chicken Bowl\n",
            "7            Steak Burrito\n",
            "13            Chicken Bowl\n",
            "23         Chicken Burrito\n",
            "               ...        \n",
            "4610         Steak Burrito\n",
            "4611        Veggie Burrito\n",
            "4617         Steak Burrito\n",
            "4618         Steak Burrito\n",
            "4619    Chicken Salad Bowl\n",
            "Name: item_name, Length: 1130, dtype: object\n"
          ]
        }
      ]
    },
    {
      "cell_type": "code",
      "source": [
        "sorted_products = products_gt_10.sort_values()\n",
        "\n",
        "print(sorted_products)"
      ],
      "metadata": {
        "colab": {
          "base_uri": "https://localhost:8080/"
        },
        "id": "e9VdrMupD0oE",
        "outputId": "a2ec9792-9bd2-4e94-82b4-828f533501cc"
      },
      "execution_count": 27,
      "outputs": [
        {
          "output_type": "stream",
          "name": "stdout",
          "text": [
            "3389    6 Pack Soft Drink\n",
            "1643        Barbacoa Bowl\n",
            "919         Barbacoa Bowl\n",
            "3547        Barbacoa Bowl\n",
            "4510        Barbacoa Bowl\n",
            "              ...        \n",
            "186     Veggie Salad Bowl\n",
            "295     Veggie Salad Bowl\n",
            "3889    Veggie Soft Tacos\n",
            "738     Veggie Soft Tacos\n",
            "1699    Veggie Soft Tacos\n",
            "Name: item_name, Length: 1130, dtype: object\n"
          ]
        }
      ]
    },
    {
      "cell_type": "code",
      "source": [
        "chipo_sorted = chipotle.sort_values('item_price', ascending=False)\n",
        "most_expensive_quantity = chipo_sorted.iloc[0]['quantity']\n",
        "\n",
        "print(\"Count of highest-priced items ordered:\", most_expensive_quantity)"
      ],
      "metadata": {
        "colab": {
          "base_uri": "https://localhost:8080/"
        },
        "id": "qhtc9-BnD4a7",
        "outputId": "16e1868e-35e5-480b-8439-e39f4c174891"
      },
      "execution_count": 31,
      "outputs": [
        {
          "output_type": "stream",
          "name": "stdout",
          "text": [
            "Count of highest-priced items ordered: 15\n"
          ]
        }
      ]
    },
    {
      "cell_type": "code",
      "source": [
        "veggie_salad_orders = chipotle[chipotle['item_name'] == 'Veggie Salad Bowl']\n",
        "veggie_salad_quantity = veggie_salad_orders['quantity'].sum()\n",
        "\n",
        "print(\"Count of orders for Veggie Salad Bowl:\", veggie_salad_quantity)"
      ],
      "metadata": {
        "colab": {
          "base_uri": "https://localhost:8080/"
        },
        "id": "08gX3x-YD75f",
        "outputId": "e204d21e-39d2-4d3e-dfa3-854000329ec5"
      },
      "execution_count": 32,
      "outputs": [
        {
          "output_type": "stream",
          "name": "stdout",
          "text": [
            "Count of orders for Veggie Salad Bowl: 18\n"
          ]
        }
      ]
    },
    {
      "cell_type": "code",
      "source": [
        "multiple_soda_orders = chipotle[(chipotle['item_name'] == 'Canned Soda') & (chipotle['quantity'] > 1)]\n",
        "multiple_soda_count = len(multiple_soda_orders)\n",
        "\n",
        "print(\"Count of instances where someone ordered multiple Canned Sodas:\", multiple_soda_count)"
      ],
      "metadata": {
        "colab": {
          "base_uri": "https://localhost:8080/"
        },
        "id": "MrNCADE-D-ku",
        "outputId": "30d3c7a0-01a2-44f6-d6f1-5f1c4769ebf6"
      },
      "execution_count": 33,
      "outputs": [
        {
          "output_type": "stream",
          "name": "stdout",
          "text": [
            "Count of instances where someone ordered multiple Canned Sodas: 20\n"
          ]
        }
      ]
    }
  ]
}
